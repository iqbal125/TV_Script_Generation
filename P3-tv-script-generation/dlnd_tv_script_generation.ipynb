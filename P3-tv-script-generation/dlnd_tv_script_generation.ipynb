{
 "cells": [
  {
   "cell_type": "markdown",
   "metadata": {
    "deletable": true,
    "editable": true
   },
   "source": [
    "# TV Script Generation\n",
    "In this project, you'll generate your own [Simpsons](https://en.wikipedia.org/wiki/The_Simpsons) TV scripts using RNNs.  You'll be using part of the [Simpsons dataset](https://www.kaggle.com/wcukierski/the-simpsons-by-the-data) of scripts from 27 seasons.  The Neural Network you'll build will generate a new TV script for a scene at [Moe's Tavern](https://simpsonswiki.com/wiki/Moe's_Tavern).\n",
    "## Get the Data\n",
    "The data is already provided for you.  You'll be using a subset of the original dataset.  It consists of only the scenes in Moe's Tavern.  This doesn't include other versions of the tavern, like \"Moe's Cavern\", \"Flaming Moe's\", \"Uncle Moe's Family Feed-Bag\", etc.."
   ]
  },
  {
   "cell_type": "code",
   "execution_count": 36,
   "metadata": {
    "collapsed": false,
    "deletable": true,
    "editable": true
   },
   "outputs": [],
   "source": [
    "\"\"\"\n",
    "DON'T MODIFY ANYTHING IN THIS CELL\n",
    "\"\"\"\n",
    "import helper\n",
    "\n",
    "data_dir = './data/simpsons/moes_tavern_lines.txt'\n",
    "text = helper.load_data(data_dir)\n",
    "# Ignore notice, since we don't use it for analysing the data\n",
    "text = text[81:]"
   ]
  },
  {
   "cell_type": "markdown",
   "metadata": {
    "deletable": true,
    "editable": true
   },
   "source": [
    "## Explore the Data\n",
    "Play around with `view_sentence_range` to view different parts of the data."
   ]
  },
  {
   "cell_type": "code",
   "execution_count": 37,
   "metadata": {
    "collapsed": false,
    "deletable": true,
    "editable": true
   },
   "outputs": [
    {
     "name": "stdout",
     "output_type": "stream",
     "text": [
      "Dataset Stats\n",
      "Roughly the number of unique words: 11492\n",
      "Number of scenes: 262\n",
      "Average number of sentences in each scene: 15.251908396946565\n",
      "Number of lines: 4258\n",
      "Average number of words in each line: 11.50164396430249\n",
      "\n",
      "The sentences 2500 to 2510:\n",
      "Marge_Simpson: Maybe some cheerier paint would make this place less of a (AIR QUOTES) \"dive.\"\n",
      "Moe_Szyslak: Marge, my customers don't like themselves. Therefore, they seek the darkness.\n",
      "Marge_Simpson: (TACTFUL) Well... as fabulous as your regulars are, a remodel might bring in a higher class of lush.\n",
      "Moe_Szyslak: Look, I like Moe's the way it is, all right? And I ain't changin' it for any dame, skirt, Susie-Q, or face-macer.\n",
      "Marge_Simpson: I had a feeling you'd say that. (STAGY) So I prepared something that might help you \"change your tune.\"\n",
      "Marge_Simpson: (SINGING) THIS PLACE IS A DIAMOND / BUT IT'S TRAPPED IN THE ROUGH\n",
      "Moe_Szyslak: (SINGING, POINTS) YEAH WELL THE SIGN STILL SAYS \"MOE'S\" / SO ENOUGH OF YOUR GUFF\n",
      "Marge_Simpson: HERE'S MY NEW IDEA TO SELL BOTH BEER AND GRUB / WE WILL TURN THIS FILTHY DIVE INTO A PROPER OLD-TIME BRITISH PUB!\n",
      "Moe_Szyslak: A British whaaa?\n",
      "Lisa_Simpson: (\"RULE BRITANNIA\") DARTS AND MEATPIES, AND LAGER IN PINT GLASSES\n"
     ]
    }
   ],
   "source": [
    "view_sentence_range = (2500, 2510)\n",
    "\n",
    "\"\"\"\n",
    "DON'T MODIFY ANYTHING IN THIS CELL\n",
    "\"\"\"\n",
    "import numpy as np\n",
    "\n",
    "print('Dataset Stats')\n",
    "print('Roughly the number of unique words: {}'.format(len({word: None for word in text.split()})))\n",
    "scenes = text.split('\\n\\n')\n",
    "print('Number of scenes: {}'.format(len(scenes)))\n",
    "sentence_count_scene = [scene.count('\\n') for scene in scenes]\n",
    "print('Average number of sentences in each scene: {}'.format(np.average(sentence_count_scene)))\n",
    "\n",
    "sentences = [sentence for scene in scenes for sentence in scene.split('\\n')]\n",
    "print('Number of lines: {}'.format(len(sentences)))\n",
    "word_count_sentence = [len(sentence.split()) for sentence in sentences]\n",
    "print('Average number of words in each line: {}'.format(np.average(word_count_sentence)))\n",
    "\n",
    "print()\n",
    "print('The sentences {} to {}:'.format(*view_sentence_range))\n",
    "print('\\n'.join(text.split('\\n')[view_sentence_range[0]:view_sentence_range[1]]))"
   ]
  },
  {
   "cell_type": "markdown",
   "metadata": {
    "deletable": true,
    "editable": true
   },
   "source": [
    "## Implement Preprocessing Functions\n",
    "The first thing to do to any dataset is preprocessing.  Implement the following preprocessing functions below:\n",
    "- Lookup Table\n",
    "- Tokenize Punctuation\n",
    "\n",
    "### Lookup Table\n",
    "To create a word embedding, you first need to transform the words to ids.  In this function, create two dictionaries:\n",
    "- Dictionary to go from the words to an id, we'll call `vocab_to_int`\n",
    "- Dictionary to go from the id to word, we'll call `int_to_vocab`\n",
    "\n",
    "Return these dictionaries in the following tuple `(vocab_to_int, int_to_vocab)`"
   ]
  },
  {
   "cell_type": "code",
   "execution_count": 38,
   "metadata": {
    "collapsed": false,
    "deletable": true,
    "editable": true
   },
   "outputs": [
    {
     "name": "stdout",
     "output_type": "stream",
     "text": [
      "Tests Passed\n"
     ]
    }
   ],
   "source": [
    "import numpy as np\n",
    "import problem_unittests as tests\n",
    "\n",
    "def create_lookup_tables(text):\n",
    "    \"\"\"\n",
    "    Create lookup tables for vocabulary\n",
    "    :param text: The text of tv scripts split into words\n",
    "    :return: A tuple of dicts (vocab_to_int, int_to_vocab)\n",
    "    \"\"\"\n",
    "    # TODO: Implement Function\n",
    "    words = set(text)\n",
    "    vocab_to_int = {c: i for i, c in enumerate(words)}\n",
    "    int_to_vocab = dict(enumerate(words))\n",
    "    \n",
    "    return (vocab_to_int, int_to_vocab)\n",
    "\n",
    "\n",
    "\n",
    "\n",
    "\"\"\"\n",
    "DON'T MODIFY ANYTHING IN THIS CELL THAT IS BELOW THIS LINE\n",
    "\"\"\"\n",
    "tests.test_create_lookup_tables(create_lookup_tables)"
   ]
  },
  {
   "cell_type": "markdown",
   "metadata": {
    "deletable": true,
    "editable": true
   },
   "source": [
    "### Tokenize Punctuation\n",
    "We'll be splitting the script into a word array using spaces as delimiters.  However, punctuations like periods and exclamation marks make it hard for the neural network to distinguish between the word \"bye\" and \"bye!\".\n",
    "\n",
    "Implement the function `token_lookup` to return a dict that will be used to tokenize symbols like \"!\" into \"||Exclamation_Mark||\".  Create a dictionary for the following symbols where the symbol is the key and value is the token:\n",
    "- Period ( . )\n",
    "- Comma ( , )\n",
    "- Quotation Mark ( \" )\n",
    "- Semicolon ( ; )\n",
    "- Exclamation mark ( ! )\n",
    "- Question mark ( ? )\n",
    "- Left Parentheses ( ( )\n",
    "- Right Parentheses ( ) )\n",
    "- Dash ( -- )\n",
    "- Return ( \\n )\n",
    "\n",
    "This dictionary will be used to token the symbols and add the delimiter (space) around it.  This separates the symbols as it's own word, making it easier for the neural network to predict on the next word. Make sure you don't use a token that could be confused as a word. Instead of using the token \"dash\", try using something like \"||dash||\"."
   ]
  },
  {
   "cell_type": "code",
   "execution_count": 39,
   "metadata": {
    "collapsed": false,
    "deletable": true,
    "editable": true
   },
   "outputs": [
    {
     "name": "stdout",
     "output_type": "stream",
     "text": [
      "Tests Passed\n"
     ]
    }
   ],
   "source": [
    "def token_lookup():\n",
    "    \"\"\"\n",
    "    Generate a dict to turn punctuation into a token.\n",
    "    :return: Tokenize dictionary where the key is the punctuation and the value is the token\n",
    "    \"\"\"\n",
    "    # TODO: Implement Function\n",
    "    punct_dict = {\n",
    "         '.': '||PERIOD||',\n",
    "         ',': '||COMMA||',\n",
    "         '\"': '||QUOTATION_MARK||',\n",
    "         ';': '||SEMICOLON||',\n",
    "         '!': '||EXCLAMATION_MARK||',\n",
    "         '?': '||QUESTION_MARK||',\n",
    "         '(': '||LEFT_PAREN||',\n",
    "         ')': '||RIGHT_PAREN||',\n",
    "         '--': '||HYPHENS||',\n",
    "         '\\n': '||NEW_LINE||'\n",
    "        }\n",
    "    \n",
    "    return punct_dict\n",
    "\n",
    "\"\"\"\n",
    "DON'T MODIFY ANYTHING IN THIS CELL THAT IS BELOW THIS LINE\n",
    "\"\"\"\n",
    "tests.test_tokenize(token_lookup)"
   ]
  },
  {
   "cell_type": "markdown",
   "metadata": {
    "deletable": true,
    "editable": true
   },
   "source": [
    "## Preprocess all the data and save it\n",
    "Running the code cell below will preprocess all the data and save it to file."
   ]
  },
  {
   "cell_type": "code",
   "execution_count": 40,
   "metadata": {
    "collapsed": false,
    "deletable": true,
    "editable": true
   },
   "outputs": [],
   "source": [
    "\"\"\"\n",
    "DON'T MODIFY ANYTHING IN THIS CELL\n",
    "\"\"\"\n",
    "# Preprocess Training, Validation, and Testing Data\n",
    "helper.preprocess_and_save_data(data_dir, token_lookup, create_lookup_tables)"
   ]
  },
  {
   "cell_type": "markdown",
   "metadata": {
    "deletable": true,
    "editable": true
   },
   "source": [
    "# Check Point\n",
    "This is your first checkpoint. If you ever decide to come back to this notebook or have to restart the notebook, you can start from here. The preprocessed data has been saved to disk."
   ]
  },
  {
   "cell_type": "code",
   "execution_count": 41,
   "metadata": {
    "collapsed": false,
    "deletable": true,
    "editable": true
   },
   "outputs": [],
   "source": [
    "\"\"\"\n",
    "DON'T MODIFY ANYTHING IN THIS CELL\n",
    "\"\"\"\n",
    "import helper\n",
    "import numpy as np\n",
    "import problem_unittests as tests\n",
    "\n",
    "int_text, vocab_to_int, int_to_vocab, token_dict = helper.load_preprocess()"
   ]
  },
  {
   "cell_type": "markdown",
   "metadata": {
    "deletable": true,
    "editable": true
   },
   "source": [
    "## Build the Neural Network\n",
    "You'll build the components necessary to build a RNN by implementing the following functions below:\n",
    "- get_inputs\n",
    "- get_init_cell\n",
    "- get_embed\n",
    "- build_rnn\n",
    "- build_nn\n",
    "- get_batches\n",
    "\n",
    "### Check the Version of TensorFlow and Access to GPU"
   ]
  },
  {
   "cell_type": "code",
   "execution_count": 42,
   "metadata": {
    "collapsed": false
   },
   "outputs": [
    {
     "name": "stdout",
     "output_type": "stream",
     "text": [
      "TensorFlow Version: 1.0.0\n"
     ]
    },
    {
     "name": "stderr",
     "output_type": "stream",
     "text": [
      "C:\\Users\\Mohammad\\Anaconda2\\envs\\tensorflow\\lib\\site-packages\\ipykernel\\__main__.py:14: UserWarning: No GPU found. Please use a GPU to train your neural network.\n"
     ]
    }
   ],
   "source": [
    "\"\"\"\n",
    "DON'T MODIFY ANYTHING IN THIS CELL\n",
    "\"\"\"\n",
    "from distutils.version import LooseVersion\n",
    "import warnings\n",
    "import tensorflow as tf\n",
    "\n",
    "# Check TensorFlow Version\n",
    "assert LooseVersion(tf.__version__) >= LooseVersion('1.0'), 'Please use TensorFlow version 1.0 or newer'\n",
    "print('TensorFlow Version: {}'.format(tf.__version__))\n",
    "\n",
    "# Check for a GPU\n",
    "if not tf.test.gpu_device_name():\n",
    "    warnings.warn('No GPU found. Please use a GPU to train your neural network.')\n",
    "else:\n",
    "    print('Default GPU Device: {}'.format(tf.test.gpu_device_name()))"
   ]
  },
  {
   "cell_type": "markdown",
   "metadata": {},
   "source": [
    "### Input\n",
    "Implement the `get_inputs()` function to create TF Placeholders for the Neural Network.  It should create the following placeholders:\n",
    "- Input text placeholder named \"input\" using the [TF Placeholder](https://www.tensorflow.org/api_docs/python/tf/placeholder) `name` parameter.\n",
    "- Targets placeholder\n",
    "- Learning Rate placeholder\n",
    "\n",
    "Return the placeholders in the following the tuple `(Input, Targets, LearingRate)`"
   ]
  },
  {
   "cell_type": "code",
   "execution_count": 43,
   "metadata": {
    "collapsed": false,
    "deletable": true,
    "editable": true
   },
   "outputs": [
    {
     "name": "stdout",
     "output_type": "stream",
     "text": [
      "Tests Passed\n"
     ]
    }
   ],
   "source": [
    "def get_inputs():\n",
    "    \"\"\"\n",
    "    Create TF Placeholders for input, targets, and learning rate.\n",
    "    :return: Tuple (input, targets, learning rate)\n",
    "    \"\"\"\n",
    "    # TODO: Implement Function\n",
    "    inputs = tf.placeholder(tf.int32, [None,None], name=\"input\")\n",
    "    targets = tf.placeholder(tf.int32, [None,None], name=\"targets\")\n",
    "    learning_rate = tf.placeholder(tf.float32, name=\"learning_rate\")\n",
    "    \n",
    "    return (inputs, targets, learning_rate)\n",
    "\n",
    "\n",
    "\"\"\"\n",
    "DON'T MODIFY ANYTHING IN THIS CELL THAT IS BELOW THIS LINE\n",
    "\"\"\"\n",
    "tests.test_get_inputs(get_inputs)"
   ]
  },
  {
   "cell_type": "markdown",
   "metadata": {
    "deletable": true,
    "editable": true
   },
   "source": [
    "### Build RNN Cell and Initialize\n",
    "Stack one or more [`BasicLSTMCells`](https://www.tensorflow.org/api_docs/python/tf/contrib/rnn/BasicLSTMCell) in a [`MultiRNNCell`](https://www.tensorflow.org/api_docs/python/tf/contrib/rnn/MultiRNNCell).\n",
    "- The Rnn size should be set using `rnn_size`\n",
    "- Initalize Cell State using the MultiRNNCell's [`zero_state()`](https://www.tensorflow.org/api_docs/python/tf/contrib/rnn/MultiRNNCell#zero_state) function\n",
    "    - Apply the name \"initial_state\" to the initial state using [`tf.identity()`](https://www.tensorflow.org/api_docs/python/tf/identity)\n",
    "\n",
    "Return the cell and initial state in the following tuple `(Cell, InitialState)`"
   ]
  },
  {
   "cell_type": "code",
   "execution_count": 44,
   "metadata": {
    "collapsed": false,
    "deletable": true,
    "editable": true
   },
   "outputs": [
    {
     "name": "stdout",
     "output_type": "stream",
     "text": [
      "Tests Passed\n"
     ]
    }
   ],
   "source": [
    "def get_init_cell(batch_size, rnn_size):\n",
    "    \"\"\"\n",
    "    Create an RNN Cell and initialize it.\n",
    "    :param batch_size: Size of batches\n",
    "    :param rnn_size: Size of RNNs\n",
    "    :return: Tuple (cell, initialize state)\n",
    "    \"\"\"\n",
    "    # TODO: Implement Function\n",
    "    lstm_layers = 1\n",
    "    lstm = tf.contrib.rnn.BasicLSTMCell(rnn_size)\n",
    "    cell = tf.contrib.rnn.MultiRNNCell([lstm] * lstm_layers)\n",
    "    \n",
    "    initial_state = tf.identity(cell.zero_state(batch_size, tf.float32), name='initial_state')\n",
    "    \n",
    "    return (cell, initial_state)\n",
    "\n",
    "\"\"\"\n",
    "DON'T MODIFY ANYTHING IN THIS CELL THAT IS BELOW THIS LINE\n",
    "\"\"\"\n",
    "tests.test_get_init_cell(get_init_cell)"
   ]
  },
  {
   "cell_type": "markdown",
   "metadata": {
    "deletable": true,
    "editable": true
   },
   "source": [
    "### Word Embedding\n",
    "Apply embedding to `input_data` using TensorFlow.  Return the embedded sequence."
   ]
  },
  {
   "cell_type": "code",
   "execution_count": 45,
   "metadata": {
    "collapsed": false,
    "deletable": true,
    "editable": true
   },
   "outputs": [
    {
     "name": "stdout",
     "output_type": "stream",
     "text": [
      "Tests Passed\n"
     ]
    }
   ],
   "source": [
    "def get_embed(input_data, vocab_size, embed_dim):\n",
    "    \"\"\"\n",
    "    Create embedding for <input_data>.\n",
    "    :param input_data: TF placeholder for text input.\n",
    "    :param vocab_size: Number of words in vocabulary.\n",
    "    :param embed_dim: Number of embedding dimensions\n",
    "    :return: Embedded input.\n",
    "    \"\"\"\n",
    "    # TODO: Implement Function\n",
    "    embedding = tf.Variable(tf.random_uniform((vocab_size, embed_dim), -1, 1))\n",
    "    embed = tf.nn.embedding_lookup(embedding, input_data)\n",
    "    return embed\n",
    "\n",
    "\n",
    "\"\"\"\n",
    "DON'T MODIFY ANYTHING IN THIS CELL THAT IS BELOW THIS LINE\n",
    "\"\"\"\n",
    "tests.test_get_embed(get_embed)"
   ]
  },
  {
   "cell_type": "markdown",
   "metadata": {
    "deletable": true,
    "editable": true
   },
   "source": [
    "### Build RNN\n",
    "You created a RNN Cell in the `get_init_cell()` function.  Time to use the cell to create a RNN.\n",
    "- Build the RNN using the [`tf.nn.dynamic_rnn()`](https://www.tensorflow.org/api_docs/python/tf/nn/dynamic_rnn)\n",
    " - Apply the name \"final_state\" to the final state using [`tf.identity()`](https://www.tensorflow.org/api_docs/python/tf/identity)\n",
    "\n",
    "Return the outputs and final_state state in the following tuple `(Outputs, FinalState)` "
   ]
  },
  {
   "cell_type": "code",
   "execution_count": 46,
   "metadata": {
    "collapsed": false,
    "deletable": true,
    "editable": true
   },
   "outputs": [
    {
     "name": "stdout",
     "output_type": "stream",
     "text": [
      "Tests Passed\n"
     ]
    }
   ],
   "source": [
    "def build_rnn(cell, inputs):\n",
    "    \"\"\"\n",
    "    Create a RNN using a RNN Cell\n",
    "    :param cell: RNN Cell\n",
    "    :param inputs: Input text data\n",
    "    :return: Tuple (Outputs, Final State)\n",
    "    \"\"\"\n",
    "    # TODO: Implement Function\n",
    "    outputs, state = tf.nn.dynamic_rnn(cell, inputs, dtype=tf.float32)\n",
    "    final_state = tf.identity(state, name='final_state')\n",
    "    return (outputs, final_state)\n",
    "\n",
    "\n",
    "\"\"\"\n",
    "DON'T MODIFY ANYTHING IN THIS CELL THAT IS BELOW THIS LINE\n",
    "\"\"\"\n",
    "tests.test_build_rnn(build_rnn)"
   ]
  },
  {
   "cell_type": "markdown",
   "metadata": {
    "deletable": true,
    "editable": true
   },
   "source": [
    "### Build the Neural Network\n",
    "Apply the functions you implemented above to:\n",
    "- Apply embedding to `input_data` using your `get_embed(input_data, vocab_size, embed_dim)` function.\n",
    "- Build RNN using `cell` and your `build_rnn(cell, inputs)` function.\n",
    "- Apply a fully connected layer with a linear activation and `vocab_size` as the number of outputs.\n",
    "\n",
    "Return the logits and final state in the following tuple (Logits, FinalState) "
   ]
  },
  {
   "cell_type": "code",
   "execution_count": 47,
   "metadata": {
    "collapsed": false,
    "deletable": true,
    "editable": true
   },
   "outputs": [
    {
     "name": "stdout",
     "output_type": "stream",
     "text": [
      "Tests Passed\n"
     ]
    }
   ],
   "source": [
    "def build_nn(cell, rnn_size, input_data, vocab_size):\n",
    "    \"\"\"\n",
    "    Build part of the neural network\n",
    "    :param cell: RNN cell\n",
    "    :param rnn_size: Size of rnns\n",
    "    :param input_data: Input data\n",
    "    :param vocab_size: Vocabulary size\n",
    "    :return: Tuple (Logits, FinalState)\n",
    "    \"\"\"\n",
    "    # TODO: Implement Function\n",
    "    embedding = get_embed(input_data, vocab_size, rnn_size)\n",
    "    outputs, final_state = build_rnn(cell, embedding)\n",
    "    logits = tf.contrib.layers.fully_connected(outputs, vocab_size, activation_fn=None) \n",
    "    \n",
    "    return (logits, final_state)\n",
    "\n",
    "\n",
    "\"\"\"\n",
    "DON'T MODIFY ANYTHING IN THIS CELL THAT IS BELOW THIS LINE\n",
    "\"\"\"\n",
    "tests.test_build_nn(build_nn)"
   ]
  },
  {
   "cell_type": "markdown",
   "metadata": {
    "deletable": true,
    "editable": true
   },
   "source": [
    "### Batches\n",
    "Implement `get_batches` to create batches of input and targets using `int_text`.  The batches should be a Numpy array with the shape `(number of batches, 2, batch size, sequence length)`. Each batch contains two elements:\n",
    "- The first element is a single batch of **input** with the shape `[batch size, sequence length]`\n",
    "- The second element is a single batch of **targets** with the shape `[batch size, sequence length]`\n",
    "\n",
    "If you can't fill the last batch with enough data, drop the last batch.\n",
    "\n",
    "For exmple, `get_batches([1, 2, 3, 4, 5, 6, 7, 8, 9, 10, 11, 12, 13, 14, 15], 2, 3)` would return a Numpy array of the following:\n",
    "```\n",
    "[\n",
    "  # First Batch\n",
    "  [\n",
    "    # Batch of Input\n",
    "    [[ 1  2  3], [ 7  8  9]],\n",
    "    # Batch of targets\n",
    "    [[ 2  3  4], [ 8  9 10]]\n",
    "  ],\n",
    " \n",
    "  # Second Batch\n",
    "  [\n",
    "    # Batch of Input\n",
    "    [[ 4  5  6], [10 11 12]],\n",
    "    # Batch of targets\n",
    "    [[ 5  6  7], [11 12 13]]\n",
    "  ]\n",
    "]\n",
    "```"
   ]
  },
  {
   "cell_type": "code",
   "execution_count": 48,
   "metadata": {
    "collapsed": false,
    "deletable": true,
    "editable": true
   },
   "outputs": [
    {
     "name": "stdout",
     "output_type": "stream",
     "text": [
      "Tests Passed\n"
     ]
    }
   ],
   "source": [
    "def get_batches(int_text, batch_size, seq_length):\n",
    "    \"\"\"\n",
    "    Return batches of input and target\n",
    "    :param int_text: Text with the words replaced by their ids\n",
    "    :param batch_size: The size of batch\n",
    "    :param seq_length: The length of sequence\n",
    "    :return: Batches as a Numpy array\n",
    "    \"\"\"\n",
    "    # TODO: Implement Function\n",
    "    n_batches = int(len(int_text) / (batch_size * seq_length))\n",
    "\n",
    "    xdata = np.array(int_text[: n_batches * batch_size * seq_length])\n",
    "    ydata = np.array(int_text[1: n_batches * batch_size * seq_length + 1])\n",
    "\n",
    "    x_batches = np.split(xdata.reshape(batch_size, -1), n_batches, 1)\n",
    "    y_batches = np.split(ydata.reshape(batch_size, -1), n_batches, 1)\n",
    "\n",
    "    result = list(zip(x_batches, y_batches))\n",
    "    \n",
    "    return np.array(result)\n",
    "\n",
    "\n",
    "\"\"\"\n",
    "DON'T MODIFY ANYTHING IN THIS CELL THAT IS BELOW THIS LINE\n",
    "\"\"\"\n",
    "tests.test_get_batches(get_batches)"
   ]
  },
  {
   "cell_type": "markdown",
   "metadata": {
    "deletable": true,
    "editable": true
   },
   "source": [
    "## Neural Network Training\n",
    "### Hyperparameters\n",
    "Tune the following parameters:\n",
    "\n",
    "- Set `num_epochs` to the number of epochs.\n",
    "- Set `batch_size` to the batch size.\n",
    "- Set `rnn_size` to the size of the RNNs.\n",
    "- Set `seq_length` to the length of sequence.\n",
    "- Set `learning_rate` to the learning rate.\n",
    "- Set `show_every_n_batches` to the number of batches the neural network should print progress."
   ]
  },
  {
   "cell_type": "code",
   "execution_count": 55,
   "metadata": {
    "collapsed": true,
    "deletable": true,
    "editable": true
   },
   "outputs": [],
   "source": [
    "# Number of Epochs\n",
    "num_epochs = 50\n",
    "# Batch Size\n",
    "batch_size = 128\n",
    "# RNN Size\n",
    "rnn_size = 100\n",
    "# Sequence Length\n",
    "seq_length = 10\n",
    "# Learning Rate\n",
    "learning_rate = .01\n",
    "# Show stats for every n number of batches\n",
    "show_every_n_batches = 10\n",
    "\n",
    "\"\"\"\n",
    "DON'T MODIFY ANYTHING IN THIS CELL THAT IS BELOW THIS LINE\n",
    "\"\"\"\n",
    "save_dir = './save'"
   ]
  },
  {
   "cell_type": "markdown",
   "metadata": {
    "deletable": true,
    "editable": true
   },
   "source": [
    "### Build the Graph\n",
    "Build the graph using the neural network you implemented."
   ]
  },
  {
   "cell_type": "code",
   "execution_count": 56,
   "metadata": {
    "collapsed": false,
    "deletable": true,
    "editable": true
   },
   "outputs": [],
   "source": [
    "\"\"\"\n",
    "DON'T MODIFY ANYTHING IN THIS CELL\n",
    "\"\"\"\n",
    "from tensorflow.contrib import seq2seq\n",
    "\n",
    "train_graph = tf.Graph()\n",
    "with train_graph.as_default():\n",
    "    vocab_size = len(int_to_vocab)\n",
    "    input_text, targets, lr = get_inputs()\n",
    "    input_data_shape = tf.shape(input_text)\n",
    "    cell, initial_state = get_init_cell(input_data_shape[0], rnn_size)\n",
    "    logits, final_state = build_nn(cell, rnn_size, input_text, vocab_size)\n",
    "\n",
    "    # Probabilities for generating words\n",
    "    probs = tf.nn.softmax(logits, name='probs')\n",
    "\n",
    "    # Loss function\n",
    "    cost = seq2seq.sequence_loss(\n",
    "        logits,\n",
    "        targets,\n",
    "        tf.ones([input_data_shape[0], input_data_shape[1]]))\n",
    "\n",
    "    # Optimizer\n",
    "    optimizer = tf.train.AdamOptimizer(lr)\n",
    "\n",
    "    # Gradient Clipping\n",
    "    gradients = optimizer.compute_gradients(cost)\n",
    "    capped_gradients = [(tf.clip_by_value(grad, -1., 1.), var) for grad, var in gradients]\n",
    "    train_op = optimizer.apply_gradients(capped_gradients)"
   ]
  },
  {
   "cell_type": "markdown",
   "metadata": {
    "deletable": true,
    "editable": true
   },
   "source": [
    "## Train\n",
    "Train the neural network on the preprocessed data.  If you have a hard time getting a good loss, check the [forms](https://discussions.udacity.com/) to see if anyone is having the same problem."
   ]
  },
  {
   "cell_type": "code",
   "execution_count": 57,
   "metadata": {
    "collapsed": false,
    "deletable": true,
    "editable": true
   },
   "outputs": [
    {
     "name": "stdout",
     "output_type": "stream",
     "text": [
      "Epoch   0 Batch    0/53   train_loss = 8.823\n",
      "Epoch   0 Batch   10/53   train_loss = 6.781\n",
      "Epoch   0 Batch   20/53   train_loss = 6.115\n",
      "Epoch   0 Batch   30/53   train_loss = 5.872\n",
      "Epoch   0 Batch   40/53   train_loss = 5.775\n",
      "Epoch   0 Batch   50/53   train_loss = 5.600\n",
      "Epoch   1 Batch    7/53   train_loss = 5.299\n",
      "Epoch   1 Batch   17/53   train_loss = 5.160\n",
      "Epoch   1 Batch   27/53   train_loss = 5.307\n",
      "Epoch   1 Batch   37/53   train_loss = 4.962\n",
      "Epoch   1 Batch   47/53   train_loss = 4.787\n",
      "Epoch   2 Batch    4/53   train_loss = 4.737\n",
      "Epoch   2 Batch   14/53   train_loss = 4.888\n",
      "Epoch   2 Batch   24/53   train_loss = 4.806\n",
      "Epoch   2 Batch   34/53   train_loss = 4.788\n",
      "Epoch   2 Batch   44/53   train_loss = 4.493\n",
      "Epoch   3 Batch    1/53   train_loss = 4.560\n",
      "Epoch   3 Batch   11/53   train_loss = 4.615\n",
      "Epoch   3 Batch   21/53   train_loss = 4.479\n",
      "Epoch   3 Batch   31/53   train_loss = 4.512\n",
      "Epoch   3 Batch   41/53   train_loss = 4.375\n",
      "Epoch   3 Batch   51/53   train_loss = 4.364\n",
      "Epoch   4 Batch    8/53   train_loss = 4.318\n",
      "Epoch   4 Batch   18/53   train_loss = 4.214\n",
      "Epoch   4 Batch   28/53   train_loss = 4.332\n",
      "Epoch   4 Batch   38/53   train_loss = 4.191\n",
      "Epoch   4 Batch   48/53   train_loss = 4.175\n",
      "Epoch   5 Batch    5/53   train_loss = 4.051\n",
      "Epoch   5 Batch   15/53   train_loss = 3.998\n",
      "Epoch   5 Batch   25/53   train_loss = 4.075\n",
      "Epoch   5 Batch   35/53   train_loss = 3.848\n",
      "Epoch   5 Batch   45/53   train_loss = 3.838\n",
      "Epoch   6 Batch    2/53   train_loss = 3.953\n",
      "Epoch   6 Batch   12/53   train_loss = 3.780\n",
      "Epoch   6 Batch   22/53   train_loss = 3.869\n",
      "Epoch   6 Batch   32/53   train_loss = 3.669\n",
      "Epoch   6 Batch   42/53   train_loss = 3.685\n",
      "Epoch   6 Batch   52/53   train_loss = 3.800\n",
      "Epoch   7 Batch    9/53   train_loss = 3.806\n",
      "Epoch   7 Batch   19/53   train_loss = 3.586\n",
      "Epoch   7 Batch   29/53   train_loss = 3.557\n",
      "Epoch   7 Batch   39/53   train_loss = 3.431\n",
      "Epoch   7 Batch   49/53   train_loss = 3.561\n",
      "Epoch   8 Batch    6/53   train_loss = 3.531\n",
      "Epoch   8 Batch   16/53   train_loss = 3.508\n",
      "Epoch   8 Batch   26/53   train_loss = 3.357\n",
      "Epoch   8 Batch   36/53   train_loss = 3.339\n",
      "Epoch   8 Batch   46/53   train_loss = 3.348\n",
      "Epoch   9 Batch    3/53   train_loss = 3.292\n",
      "Epoch   9 Batch   13/53   train_loss = 3.293\n",
      "Epoch   9 Batch   23/53   train_loss = 3.259\n",
      "Epoch   9 Batch   33/53   train_loss = 3.199\n",
      "Epoch   9 Batch   43/53   train_loss = 3.271\n",
      "Epoch  10 Batch    0/53   train_loss = 3.193\n",
      "Epoch  10 Batch   10/53   train_loss = 3.272\n",
      "Epoch  10 Batch   20/53   train_loss = 3.188\n",
      "Epoch  10 Batch   30/53   train_loss = 3.161\n",
      "Epoch  10 Batch   40/53   train_loss = 3.124\n",
      "Epoch  10 Batch   50/53   train_loss = 3.028\n",
      "Epoch  11 Batch    7/53   train_loss = 3.125\n",
      "Epoch  11 Batch   17/53   train_loss = 3.066\n",
      "Epoch  11 Batch   27/53   train_loss = 3.108\n",
      "Epoch  11 Batch   37/53   train_loss = 3.025\n",
      "Epoch  11 Batch   47/53   train_loss = 2.985\n",
      "Epoch  12 Batch    4/53   train_loss = 3.042\n",
      "Epoch  12 Batch   14/53   train_loss = 3.093\n",
      "Epoch  12 Batch   24/53   train_loss = 2.954\n",
      "Epoch  12 Batch   34/53   train_loss = 2.914\n",
      "Epoch  12 Batch   44/53   train_loss = 2.794\n",
      "Epoch  13 Batch    1/53   train_loss = 2.931\n",
      "Epoch  13 Batch   11/53   train_loss = 2.901\n",
      "Epoch  13 Batch   21/53   train_loss = 2.935\n",
      "Epoch  13 Batch   31/53   train_loss = 2.868\n",
      "Epoch  13 Batch   41/53   train_loss = 2.786\n",
      "Epoch  13 Batch   51/53   train_loss = 2.822\n",
      "Epoch  14 Batch    8/53   train_loss = 2.866\n",
      "Epoch  14 Batch   18/53   train_loss = 2.700\n",
      "Epoch  14 Batch   28/53   train_loss = 2.727\n",
      "Epoch  14 Batch   38/53   train_loss = 2.761\n",
      "Epoch  14 Batch   48/53   train_loss = 2.735\n",
      "Epoch  15 Batch    5/53   train_loss = 2.712\n",
      "Epoch  15 Batch   15/53   train_loss = 2.715\n",
      "Epoch  15 Batch   25/53   train_loss = 2.708\n",
      "Epoch  15 Batch   35/53   train_loss = 2.635\n",
      "Epoch  15 Batch   45/53   train_loss = 2.668\n",
      "Epoch  16 Batch    2/53   train_loss = 2.533\n",
      "Epoch  16 Batch   12/53   train_loss = 2.532\n",
      "Epoch  16 Batch   22/53   train_loss = 2.583\n",
      "Epoch  16 Batch   32/53   train_loss = 2.505\n",
      "Epoch  16 Batch   42/53   train_loss = 2.497\n",
      "Epoch  16 Batch   52/53   train_loss = 2.600\n",
      "Epoch  17 Batch    9/53   train_loss = 2.566\n",
      "Epoch  17 Batch   19/53   train_loss = 2.493\n",
      "Epoch  17 Batch   29/53   train_loss = 2.471\n",
      "Epoch  17 Batch   39/53   train_loss = 2.487\n",
      "Epoch  17 Batch   49/53   train_loss = 2.578\n",
      "Epoch  18 Batch    6/53   train_loss = 2.456\n",
      "Epoch  18 Batch   16/53   train_loss = 2.481\n",
      "Epoch  18 Batch   26/53   train_loss = 2.389\n",
      "Epoch  18 Batch   36/53   train_loss = 2.385\n",
      "Epoch  18 Batch   46/53   train_loss = 2.415\n",
      "Epoch  19 Batch    3/53   train_loss = 2.363\n",
      "Epoch  19 Batch   13/53   train_loss = 2.455\n",
      "Epoch  19 Batch   23/53   train_loss = 2.373\n",
      "Epoch  19 Batch   33/53   train_loss = 2.374\n",
      "Epoch  19 Batch   43/53   train_loss = 2.424\n",
      "Epoch  20 Batch    0/53   train_loss = 2.302\n",
      "Epoch  20 Batch   10/53   train_loss = 2.325\n",
      "Epoch  20 Batch   20/53   train_loss = 2.378\n",
      "Epoch  20 Batch   30/53   train_loss = 2.341\n",
      "Epoch  20 Batch   40/53   train_loss = 2.319\n",
      "Epoch  20 Batch   50/53   train_loss = 2.249\n",
      "Epoch  21 Batch    7/53   train_loss = 2.365\n",
      "Epoch  21 Batch   17/53   train_loss = 2.304\n",
      "Epoch  21 Batch   27/53   train_loss = 2.284\n",
      "Epoch  21 Batch   37/53   train_loss = 2.332\n",
      "Epoch  21 Batch   47/53   train_loss = 2.372\n",
      "Epoch  22 Batch    4/53   train_loss = 2.328\n",
      "Epoch  22 Batch   14/53   train_loss = 2.336\n",
      "Epoch  22 Batch   24/53   train_loss = 2.216\n",
      "Epoch  22 Batch   34/53   train_loss = 2.142\n",
      "Epoch  22 Batch   44/53   train_loss = 2.054\n",
      "Epoch  23 Batch    1/53   train_loss = 2.298\n",
      "Epoch  23 Batch   11/53   train_loss = 2.146\n",
      "Epoch  23 Batch   21/53   train_loss = 2.198\n",
      "Epoch  23 Batch   31/53   train_loss = 2.125\n",
      "Epoch  23 Batch   41/53   train_loss = 2.105\n",
      "Epoch  23 Batch   51/53   train_loss = 2.105\n",
      "Epoch  24 Batch    8/53   train_loss = 2.209\n",
      "Epoch  24 Batch   18/53   train_loss = 2.045\n",
      "Epoch  24 Batch   28/53   train_loss = 2.045\n",
      "Epoch  24 Batch   38/53   train_loss = 2.148\n",
      "Epoch  24 Batch   48/53   train_loss = 2.089\n",
      "Epoch  25 Batch    5/53   train_loss = 2.107\n",
      "Epoch  25 Batch   15/53   train_loss = 2.088\n",
      "Epoch  25 Batch   25/53   train_loss = 2.001\n",
      "Epoch  25 Batch   35/53   train_loss = 2.023\n",
      "Epoch  25 Batch   45/53   train_loss = 2.084\n",
      "Epoch  26 Batch    2/53   train_loss = 1.902\n",
      "Epoch  26 Batch   12/53   train_loss = 1.934\n",
      "Epoch  26 Batch   22/53   train_loss = 1.910\n",
      "Epoch  26 Batch   32/53   train_loss = 1.903\n",
      "Epoch  26 Batch   42/53   train_loss = 1.945\n",
      "Epoch  26 Batch   52/53   train_loss = 1.966\n",
      "Epoch  27 Batch    9/53   train_loss = 1.919\n",
      "Epoch  27 Batch   19/53   train_loss = 1.916\n",
      "Epoch  27 Batch   29/53   train_loss = 1.881\n",
      "Epoch  27 Batch   39/53   train_loss = 1.955\n",
      "Epoch  27 Batch   49/53   train_loss = 2.053\n",
      "Epoch  28 Batch    6/53   train_loss = 1.878\n",
      "Epoch  28 Batch   16/53   train_loss = 1.878\n",
      "Epoch  28 Batch   26/53   train_loss = 1.859\n",
      "Epoch  28 Batch   36/53   train_loss = 1.826\n",
      "Epoch  28 Batch   46/53   train_loss = 1.914\n",
      "Epoch  29 Batch    3/53   train_loss = 1.872\n",
      "Epoch  29 Batch   13/53   train_loss = 1.947\n",
      "Epoch  29 Batch   23/53   train_loss = 1.851\n",
      "Epoch  29 Batch   33/53   train_loss = 1.843\n",
      "Epoch  29 Batch   43/53   train_loss = 1.959\n",
      "Epoch  30 Batch    0/53   train_loss = 1.801\n",
      "Epoch  30 Batch   10/53   train_loss = 1.786\n",
      "Epoch  30 Batch   20/53   train_loss = 1.893\n",
      "Epoch  30 Batch   30/53   train_loss = 1.898\n",
      "Epoch  30 Batch   40/53   train_loss = 1.823\n",
      "Epoch  30 Batch   50/53   train_loss = 1.779\n",
      "Epoch  31 Batch    7/53   train_loss = 1.850\n",
      "Epoch  31 Batch   17/53   train_loss = 1.840\n",
      "Epoch  31 Batch   27/53   train_loss = 1.783\n",
      "Epoch  31 Batch   37/53   train_loss = 1.902\n",
      "Epoch  31 Batch   47/53   train_loss = 1.896\n",
      "Epoch  32 Batch    4/53   train_loss = 1.886\n",
      "Epoch  32 Batch   14/53   train_loss = 1.864\n",
      "Epoch  32 Batch   24/53   train_loss = 1.723\n",
      "Epoch  32 Batch   34/53   train_loss = 1.713\n",
      "Epoch  32 Batch   44/53   train_loss = 1.611\n",
      "Epoch  33 Batch    1/53   train_loss = 1.828\n",
      "Epoch  33 Batch   11/53   train_loss = 1.710\n",
      "Epoch  33 Batch   21/53   train_loss = 1.748\n",
      "Epoch  33 Batch   31/53   train_loss = 1.651\n",
      "Epoch  33 Batch   41/53   train_loss = 1.659\n",
      "Epoch  33 Batch   51/53   train_loss = 1.695\n",
      "Epoch  34 Batch    8/53   train_loss = 1.755\n",
      "Epoch  34 Batch   18/53   train_loss = 1.616\n",
      "Epoch  34 Batch   28/53   train_loss = 1.586\n",
      "Epoch  34 Batch   38/53   train_loss = 1.733\n",
      "Epoch  34 Batch   48/53   train_loss = 1.605\n",
      "Epoch  35 Batch    5/53   train_loss = 1.622\n",
      "Epoch  35 Batch   15/53   train_loss = 1.639\n",
      "Epoch  35 Batch   25/53   train_loss = 1.592\n",
      "Epoch  35 Batch   35/53   train_loss = 1.639\n",
      "Epoch  35 Batch   45/53   train_loss = 1.701\n",
      "Epoch  36 Batch    2/53   train_loss = 1.509\n",
      "Epoch  36 Batch   12/53   train_loss = 1.518\n",
      "Epoch  36 Batch   22/53   train_loss = 1.468\n",
      "Epoch  36 Batch   32/53   train_loss = 1.535\n",
      "Epoch  36 Batch   42/53   train_loss = 1.550\n",
      "Epoch  36 Batch   52/53   train_loss = 1.529\n",
      "Epoch  37 Batch    9/53   train_loss = 1.490\n",
      "Epoch  37 Batch   19/53   train_loss = 1.547\n",
      "Epoch  37 Batch   29/53   train_loss = 1.558\n",
      "Epoch  37 Batch   39/53   train_loss = 1.590\n",
      "Epoch  37 Batch   49/53   train_loss = 1.638\n",
      "Epoch  38 Batch    6/53   train_loss = 1.467\n",
      "Epoch  38 Batch   16/53   train_loss = 1.551\n",
      "Epoch  38 Batch   26/53   train_loss = 1.527\n",
      "Epoch  38 Batch   36/53   train_loss = 1.479\n",
      "Epoch  38 Batch   46/53   train_loss = 1.576\n",
      "Epoch  39 Batch    3/53   train_loss = 1.519\n",
      "Epoch  39 Batch   13/53   train_loss = 1.562\n",
      "Epoch  39 Batch   23/53   train_loss = 1.512\n",
      "Epoch  39 Batch   33/53   train_loss = 1.515\n",
      "Epoch  39 Batch   43/53   train_loss = 1.596\n",
      "Epoch  40 Batch    0/53   train_loss = 1.471\n",
      "Epoch  40 Batch   10/53   train_loss = 1.437\n",
      "Epoch  40 Batch   20/53   train_loss = 1.559\n",
      "Epoch  40 Batch   30/53   train_loss = 1.600\n",
      "Epoch  40 Batch   40/53   train_loss = 1.488\n",
      "Epoch  40 Batch   50/53   train_loss = 1.502\n",
      "Epoch  41 Batch    7/53   train_loss = 1.533\n",
      "Epoch  41 Batch   17/53   train_loss = 1.513\n",
      "Epoch  41 Batch   27/53   train_loss = 1.469\n",
      "Epoch  41 Batch   37/53   train_loss = 1.645\n",
      "Epoch  41 Batch   47/53   train_loss = 1.612\n",
      "Epoch  42 Batch    4/53   train_loss = 1.583\n",
      "Epoch  42 Batch   14/53   train_loss = 1.547\n",
      "Epoch  42 Batch   24/53   train_loss = 1.448\n",
      "Epoch  42 Batch   34/53   train_loss = 1.444\n",
      "Epoch  42 Batch   44/53   train_loss = 1.377\n",
      "Epoch  43 Batch    1/53   train_loss = 1.570\n",
      "Epoch  43 Batch   11/53   train_loss = 1.463\n",
      "Epoch  43 Batch   21/53   train_loss = 1.497\n",
      "Epoch  43 Batch   31/53   train_loss = 1.382\n",
      "Epoch  43 Batch   41/53   train_loss = 1.416\n",
      "Epoch  43 Batch   51/53   train_loss = 1.452\n",
      "Epoch  44 Batch    8/53   train_loss = 1.495\n",
      "Epoch  44 Batch   18/53   train_loss = 1.418\n",
      "Epoch  44 Batch   28/53   train_loss = 1.354\n",
      "Epoch  44 Batch   38/53   train_loss = 1.491\n",
      "Epoch  44 Batch   48/53   train_loss = 1.435\n",
      "Epoch  45 Batch    5/53   train_loss = 1.419\n",
      "Epoch  45 Batch   15/53   train_loss = 1.454\n",
      "Epoch  45 Batch   25/53   train_loss = 1.359\n",
      "Epoch  45 Batch   35/53   train_loss = 1.408\n",
      "Epoch  45 Batch   45/53   train_loss = 1.485\n",
      "Epoch  46 Batch    2/53   train_loss = 1.301\n",
      "Epoch  46 Batch   12/53   train_loss = 1.280\n",
      "Epoch  46 Batch   22/53   train_loss = 1.252\n",
      "Epoch  46 Batch   32/53   train_loss = 1.340\n",
      "Epoch  46 Batch   42/53   train_loss = 1.346\n",
      "Epoch  46 Batch   52/53   train_loss = 1.313\n",
      "Epoch  47 Batch    9/53   train_loss = 1.290\n",
      "Epoch  47 Batch   19/53   train_loss = 1.277\n",
      "Epoch  47 Batch   29/53   train_loss = 1.370\n",
      "Epoch  47 Batch   39/53   train_loss = 1.393\n",
      "Epoch  47 Batch   49/53   train_loss = 1.459\n",
      "Epoch  48 Batch    6/53   train_loss = 1.295\n",
      "Epoch  48 Batch   16/53   train_loss = 1.299\n",
      "Epoch  48 Batch   26/53   train_loss = 1.342\n",
      "Epoch  48 Batch   36/53   train_loss = 1.258\n",
      "Epoch  48 Batch   46/53   train_loss = 1.396\n",
      "Epoch  49 Batch    3/53   train_loss = 1.331\n",
      "Epoch  49 Batch   13/53   train_loss = 1.360\n",
      "Epoch  49 Batch   23/53   train_loss = 1.319\n",
      "Epoch  49 Batch   33/53   train_loss = 1.292\n",
      "Epoch  49 Batch   43/53   train_loss = 1.433\n",
      "Model Trained and Saved\n"
     ]
    }
   ],
   "source": [
    "\"\"\"\n",
    "DON'T MODIFY ANYTHING IN THIS CELL\n",
    "\"\"\"\n",
    "batches = get_batches(int_text, batch_size, seq_length)\n",
    "\n",
    "with tf.Session(graph=train_graph) as sess:\n",
    "    sess.run(tf.global_variables_initializer())\n",
    "\n",
    "    for epoch_i in range(num_epochs):\n",
    "        state = sess.run(initial_state, {input_text: batches[0][0]})\n",
    "\n",
    "        for batch_i, (x, y) in enumerate(batches):\n",
    "            feed = {\n",
    "                input_text: x,\n",
    "                targets: y,\n",
    "                initial_state: state,\n",
    "                lr: learning_rate}\n",
    "            train_loss, state, _ = sess.run([cost, final_state, train_op], feed)\n",
    "\n",
    "            # Show every <show_every_n_batches> batches\n",
    "            if (epoch_i * len(batches) + batch_i) % show_every_n_batches == 0:\n",
    "                print('Epoch {:>3} Batch {:>4}/{}   train_loss = {:.3f}'.format(\n",
    "                    epoch_i,\n",
    "                    batch_i,\n",
    "                    len(batches),\n",
    "                    train_loss))\n",
    "\n",
    "    # Save Model\n",
    "    saver = tf.train.Saver()\n",
    "    saver.save(sess, save_dir)\n",
    "    print('Model Trained and Saved')"
   ]
  },
  {
   "cell_type": "markdown",
   "metadata": {
    "deletable": true,
    "editable": true
   },
   "source": [
    "## Save Parameters\n",
    "Save `seq_length` and `save_dir` for generating a new TV script."
   ]
  },
  {
   "cell_type": "code",
   "execution_count": 62,
   "metadata": {
    "collapsed": false,
    "deletable": true,
    "editable": true
   },
   "outputs": [],
   "source": [
    "\"\"\"\n",
    "DON'T MODIFY ANYTHING IN THIS CELL\n",
    "\"\"\"\n",
    "# Save parameters for checkpoint\n",
    "helper.save_params((seq_length, save_dir))"
   ]
  },
  {
   "cell_type": "markdown",
   "metadata": {
    "deletable": true,
    "editable": true
   },
   "source": [
    "# Checkpoint"
   ]
  },
  {
   "cell_type": "code",
   "execution_count": 63,
   "metadata": {
    "collapsed": false,
    "deletable": true,
    "editable": true
   },
   "outputs": [],
   "source": [
    "\"\"\"\n",
    "DON'T MODIFY ANYTHING IN THIS CELL\n",
    "\"\"\"\n",
    "import tensorflow as tf\n",
    "import numpy as np\n",
    "import helper\n",
    "import problem_unittests as tests\n",
    "\n",
    "_, vocab_to_int, int_to_vocab, token_dict = helper.load_preprocess()\n",
    "seq_length, load_dir = helper.load_params()"
   ]
  },
  {
   "cell_type": "markdown",
   "metadata": {
    "deletable": true,
    "editable": true
   },
   "source": [
    "## Implement Generate Functions\n",
    "### Get Tensors\n",
    "Get tensors from `loaded_graph` using the function [`get_tensor_by_name()`](https://www.tensorflow.org/api_docs/python/tf/Graph#get_tensor_by_name).  Get the tensors using the following names:\n",
    "- \"input:0\"\n",
    "- \"initial_state:0\"\n",
    "- \"final_state:0\"\n",
    "- \"probs:0\"\n",
    "\n",
    "Return the tensors in the following tuple `(InputTensor, InitialStateTensor, FinalStateTensor, ProbsTensor)` "
   ]
  },
  {
   "cell_type": "code",
   "execution_count": 64,
   "metadata": {
    "collapsed": false,
    "deletable": true,
    "editable": true
   },
   "outputs": [
    {
     "name": "stdout",
     "output_type": "stream",
     "text": [
      "Tests Passed\n"
     ]
    }
   ],
   "source": [
    "def get_tensors(loaded_graph):\n",
    "    \"\"\"\n",
    "    Get input, initial state, final state, and probabilities tensor from <loaded_graph>\n",
    "    :param loaded_graph: TensorFlow graph loaded from file\n",
    "    :return: Tuple (InputTensor, InitialStateTensor, FinalStateTensor, ProbsTensor)\n",
    "    \"\"\"\n",
    "    # TODO: Implement Function\n",
    "    InputTensor = loaded_graph.get_tensor_by_name(\"input:0\")\n",
    "    InitialStateTensor = loaded_graph.get_tensor_by_name(\"initial_state:0\")\n",
    "    FinalStateTensor = loaded_graph.get_tensor_by_name(\"final_state:0\")\n",
    "    ProbsTensor = loaded_graph.get_tensor_by_name(\"probs:0\")\n",
    "    return (InputTensor, InitialStateTensor, FinalStateTensor, ProbsTensor)\n",
    "\n",
    "\n",
    "\"\"\"\n",
    "DON'T MODIFY ANYTHING IN THIS CELL THAT IS BELOW THIS LINE\n",
    "\"\"\"\n",
    "tests.test_get_tensors(get_tensors)"
   ]
  },
  {
   "cell_type": "markdown",
   "metadata": {
    "deletable": true,
    "editable": true
   },
   "source": [
    "### Choose Word\n",
    "Implement the `pick_word()` function to select the next word using `probabilities`."
   ]
  },
  {
   "cell_type": "code",
   "execution_count": 74,
   "metadata": {
    "collapsed": false,
    "deletable": true,
    "editable": true
   },
   "outputs": [
    {
     "name": "stdout",
     "output_type": "stream",
     "text": [
      "Tests Passed\n"
     ]
    }
   ],
   "source": [
    "def pick_word(probabilities, int_to_vocab):\n",
    "    \"\"\"\n",
    "    Pick the next word in the generated text\n",
    "    :param probabilities: Probabilites of the next word\n",
    "    :param int_to_vocab: Dictionary of word ids as the keys and words as the values\n",
    "    :return: String of the predicted word\n",
    "    \"\"\"\n",
    "    # TODO: Implement Function\n",
    "    return np.random.choice(list(int_to_vocab.values()), p=probabilities)\n",
    "    \n",
    "\n",
    "\n",
    "\"\"\"\n",
    "DON'T MODIFY ANYTHING IN THIS CELL THAT IS BELOW THIS LINE\n",
    "\"\"\"\n",
    "tests.test_pick_word(pick_word)"
   ]
  },
  {
   "cell_type": "markdown",
   "metadata": {
    "deletable": true,
    "editable": true
   },
   "source": [
    "## Generate TV Script\n",
    "This will generate the TV script for you.  Set `gen_length` to the length of TV script you want to generate."
   ]
  },
  {
   "cell_type": "code",
   "execution_count": 75,
   "metadata": {
    "collapsed": false,
    "deletable": true,
    "editable": true
   },
   "outputs": [
    {
     "name": "stdout",
     "output_type": "stream",
     "text": [
      "moe_szyslak: oh, shut up...\n",
      "krusty_the_clown: yeah,\" business is a bad... um... here's now i've never regretted her the only thing alone, but what i am here.\n",
      "homer_simpson:(sad(into phone) uh, i'm just like no dames ever buy our hats!\n",
      "bart_simpson: i'm cold duff, i'll give ya closed.\n",
      "moe_szyslak: mr. burns...\n",
      "homer_simpson: i gave you to talk to you...\n",
      "barney_gumble: i hate the smell of the people who a little bit.\n",
      "barney_gumble: sorry. move the live in laugh around and stupid been in my life on a thing.\n",
      "\n",
      "\n",
      "sports_announcer: the road! i'm not even checking booze and save your time in early about it.\n",
      "bart_simpson: tired of the chief wiggum, moe. have a son--\"\n",
      "moe_szyslak: wine? jeez. is it isn't mr. burns was last. lisa is just as good on the outside, and we'll not see.\n",
      "barney_gumble: hey, so i mean bad. wasn't\n"
     ]
    }
   ],
   "source": [
    "gen_length = 200\n",
    "# homer_simpson, moe_szyslak, or Barney_Gumble\n",
    "prime_word = 'moe_szyslak'\n",
    "\n",
    "\"\"\"\n",
    "DON'T MODIFY ANYTHING IN THIS CELL THAT IS BELOW THIS LINE\n",
    "\"\"\"\n",
    "loaded_graph = tf.Graph()\n",
    "with tf.Session(graph=loaded_graph) as sess:\n",
    "    # Load saved model\n",
    "    loader = tf.train.import_meta_graph(load_dir + '.meta')\n",
    "    loader.restore(sess, load_dir)\n",
    "\n",
    "    # Get Tensors from loaded model\n",
    "    input_text, initial_state, final_state, probs = get_tensors(loaded_graph)\n",
    "\n",
    "    # Sentences generation setup\n",
    "    gen_sentences = [prime_word + ':']\n",
    "    prev_state = sess.run(initial_state, {input_text: np.array([[1]])})\n",
    "\n",
    "    # Generate sentences\n",
    "    for n in range(gen_length):\n",
    "        # Dynamic Input\n",
    "        dyn_input = [[vocab_to_int[word] for word in gen_sentences[-seq_length:]]]\n",
    "        dyn_seq_length = len(dyn_input[0])\n",
    "\n",
    "        # Get Prediction\n",
    "        probabilities, prev_state = sess.run(\n",
    "            [probs, final_state],\n",
    "            {input_text: dyn_input, initial_state: prev_state})\n",
    "        \n",
    "        pred_word = pick_word(probabilities[dyn_seq_length-1], int_to_vocab)\n",
    "\n",
    "        gen_sentences.append(pred_word)\n",
    "    \n",
    "    # Remove tokens\n",
    "    tv_script = ' '.join(gen_sentences)\n",
    "    for key, token in token_dict.items():\n",
    "        ending = ' ' if key in ['\\n', '(', '\"'] else ''\n",
    "        tv_script = tv_script.replace(' ' + token.lower(), key)\n",
    "    tv_script = tv_script.replace('\\n ', '\\n')\n",
    "    tv_script = tv_script.replace('( ', '(')\n",
    "        \n",
    "    print(tv_script)"
   ]
  },
  {
   "cell_type": "markdown",
   "metadata": {
    "deletable": true,
    "editable": true
   },
   "source": [
    "# The TV Script is Nonsensical\n",
    "It's ok if the TV script doesn't make any sense.  We trained on less than a megabyte of text.  In order to get good results, you'll have to use a smaller vocabulary or get more data.  Luckly there's more data!  As we mentioned in the begging of this project, this is a subset of [another dataset](https://www.kaggle.com/wcukierski/the-simpsons-by-the-data).  We didn't have you train on all the data, because that would take too long.  However, you are free to train your neural network on all the data.  After you complete the project, of course.\n",
    "# Submitting This Project\n",
    "When submitting this project, make sure to run all the cells before saving the notebook. Save the notebook file as \"dlnd_tv_script_generation.ipynb\" and save it as a HTML file under \"File\" -> \"Download as\". Include the \"helper.py\" and \"problem_unittests.py\" files in your submission."
   ]
  },
  {
   "cell_type": "code",
   "execution_count": null,
   "metadata": {
    "collapsed": true
   },
   "outputs": [],
   "source": []
  }
 ],
 "metadata": {
  "kernelspec": {
   "display_name": "Python 3",
   "language": "python",
   "name": "python3"
  },
  "language_info": {
   "codemirror_mode": {
    "name": "ipython",
    "version": 3
   },
   "file_extension": ".py",
   "mimetype": "text/x-python",
   "name": "python",
   "nbconvert_exporter": "python",
   "pygments_lexer": "ipython3",
   "version": "3.5.3"
  }
 },
 "nbformat": 4,
 "nbformat_minor": 0
}
